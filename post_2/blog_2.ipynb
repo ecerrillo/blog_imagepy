{
 "cells": [
  {
   "cell_type": "code",
   "execution_count": null,
   "metadata": {
    "collapsed": false
   },
   "outputs": [],
   "source": [
    "from owslib.wms import WebMapService #required for connecting to WMS servers\n",
    "from matplotlib import pyplot as plt #required for creating the graph\n",
    "import imageio #reads and saves many types of images files\n",
    "import shapefile #reads shapefiles\n",
    "import os #only to delete temporal files (uncomment below)\n",
    "\n",
    "def wms_download(id_name,path,x,y,server,layer):\n",
    "    tam=50\n",
    "    wms = WebMapService(server)\n",
    "    img_area=wms.getmap(layers=[layer],srs='EPSG:25829',bbox=(x-tam,y-tam,x+tam,y+tam),format='image/jpeg',size=(400,400))\n",
    "    out = open(path+id_name+'_'+layer+'.jpg', 'wb')\n",
    "    out.write(img_area.read())\n",
    "    out.close()\n",
    "\n",
    "path='/home/user1/example2/'\n",
    "\n",
    "wmsurl=[]\n",
    "wmslayers=[]\n",
    "wmsfile = open(path+'wms_servers.txt')\n",
    "for line in wmsfile:\n",
    "    wmsurl.append(line.split(',')[0])\n",
    "    wmslayers.append((line.split(',')[1]).split('\\n')[0])\n",
    "\n",
    "\n",
    "sf = shapefile.Reader(path+'sites.shp')\n",
    "shapes = sf.shapes()\n",
    "sf.fields\n",
    "sr = sf.shapeRecords()\n",
    "\n",
    "pos=0\n",
    "for pts in shapes:\n",
    "    name=sr[pos].record[1]\n",
    "    pos=pos+1\n",
    "    x,y=pts.points[0][0],pts.points[0][1]\n",
    "    plt.figure()\n",
    "    plot_pos=200+(((len(wmslayers)/2)+(len(wmslayers)/2)%2)*10)+1\n",
    "    for server,layer in zip(wmsurl,wmslayers):\n",
    "        wms_download(name,path,x,y,server,layer)\n",
    "        plt.figure(1,figsize=(14,11))\n",
    "        plt.subplot(plot_pos)\n",
    "        plt.axis('off')\n",
    "        plt.title(layer)\n",
    "        image=imageio.imread(path+name+'_'+layer+'.jpg')\n",
    "        plt.imshow(image)\n",
    "        #os.system('rm '+path+name+'_'+layer+'.jpg')\n",
    "        plot_pos=plot_pos+1\n",
    "    plt.savefig(path+name+'.pdf')"
   ]
  },
  {
   "cell_type": "code",
   "execution_count": null,
   "metadata": {
    "collapsed": true
   },
   "outputs": [],
   "source": []
  }
 ],
 "metadata": {
  "kernelspec": {
   "display_name": "Python 2",
   "language": "python",
   "name": "python2"
  },
  "language_info": {
   "codemirror_mode": {
    "name": "ipython",
    "version": 2
   },
   "file_extension": ".py",
   "mimetype": "text/x-python",
   "name": "python",
   "nbconvert_exporter": "python",
   "pygments_lexer": "ipython2",
   "version": "2.7.10"
  }
 },
 "nbformat": 4,
 "nbformat_minor": 0
}
